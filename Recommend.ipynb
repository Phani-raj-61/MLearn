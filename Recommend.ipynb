{
  "nbformat": 4,
  "nbformat_minor": 0,
  "metadata": {
    "colab": {
      "name": "Untitled0.ipynb",
      "version": "0.3.2",
      "provenance": [],
      "collapsed_sections": [],
      "include_colab_link": true
    },
    "kernelspec": {
      "name": "python3",
      "display_name": "Python 3"
    }
  },
  "cells": [
    {
      "cell_type": "markdown",
      "metadata": {
        "id": "view-in-github",
        "colab_type": "text"
      },
      "source": [
        "<a href=\"https://colab.research.google.com/github/michaditya/MLearn/blob/master/Recommend.ipynb\" target=\"_parent\"><img src=\"https://colab.research.google.com/assets/colab-badge.svg\" alt=\"Open In Colab\"/></a>"
      ]
    },
    {
      "metadata": {
        "id": "dRwyjGNU1XEN",
        "colab_type": "code",
        "colab": {}
      },
      "cell_type": "code",
      "source": [
        "# A dictionary of movie critics and their ratings of a small\n",
        "# set of movies\n",
        "critics={'Lisa Rose': {'Lady in the Water': 2.5, 'Snakes on a Plane': 3.5,\n",
        "'Just My Luck': 3.0, 'Superman Returns': 3.5, 'You, Me and Dupree': 2.5,\n",
        "'The Night Listener': 3.0},\n",
        "'Gene Seymour': {'Lady in the Water': 3.0, 'Snakes on a Plane': 3.5,\n",
        "'Just My Luck': 1.5, 'Superman Returns': 5.0, 'The Night Listener': 3.0,\n",
        "'You, Me and Dupree': 3.5},\n",
        "'Michael Phillips': {'Lady in the Water': 2.5, 'Snakes on a Plane': 3.0,\n",
        "'Superman Returns': 3.5, 'The Night Listener': 4.0},\n",
        "'Claudia Puig': {'Snakes on a Plane': 3.5, 'Just My Luck': 3.0,\n",
        "'The Night Listener': 4.5, 'Superman Returns': 4.0,\n",
        "'You, Me and Dupree': 2.5},\n",
        "'Mick LaSalle': {'Lady in the Water': 3.0, 'Snakes on a Plane': 4.0,\n",
        "'Just My Luck': 2.0, 'Superman Returns': 3.0, 'The Night Listener': 3.0,\n",
        "'You, Me and Dupree': 2.0},\n",
        "'Jack Matthews': {'Lady in the Water': 3.0, 'Snakes on a Plane': 4.0,\n",
        "'The Night Listener': 3.0, 'Superman Returns': 5.0, 'You, Me and Dupree': 3.5},\n",
        "'Toby': {'Snakes on a Plane':4.5,'You, Me and Dupree':1.0,'Superman Returns':4.0}}"
      ],
      "execution_count": 0,
      "outputs": []
    },
    {
      "metadata": {
        "id": "YDhDr9J08nFN",
        "colab_type": "code",
        "colab": {}
      },
      "cell_type": "code",
      "source": [
        ""
      ],
      "execution_count": 0,
      "outputs": []
    },
    {
      "metadata": {
        "id": "G4WquxP31gtD",
        "colab_type": "code",
        "colab": {}
      },
      "cell_type": "code",
      "source": [
        "from math import sqrt\n",
        "# Returns a distance-based similarity score for person1 and person2\n",
        "def sim_distance(prefs,person1,person2):\n",
        "     # Get the list of shared_items\n",
        "  si={}\n",
        "  for item in prefs[person1]:\n",
        "    if item in prefs[person2]:\n",
        "      si[item]=1\n",
        "  # if they have no ratings in common, return 0\n",
        "  if len(si)==0: return 0\n",
        "  # Add up the squares of all the differences\n",
        "  sum_of_squares=sum([pow(prefs[person1][item]-prefs[person2][item],2)\n",
        "  for item in prefs[person1] if item in prefs[person2]])\n",
        "  return 1/(1+sum_of_squares)"
      ],
      "execution_count": 0,
      "outputs": []
    },
    {
      "metadata": {
        "id": "csvazUtU16zU",
        "colab_type": "code",
        "colab": {}
      },
      "cell_type": "code",
      "source": [
        "# Returns the Pearson correlation coefficient for p1 and p2\n",
        "def sim_pearson(prefs,p1,p2):\n",
        "# Get the list of mutually rated items\n",
        "  si={}\n",
        "  for item in prefs[p1]:\n",
        "    if item in prefs[p2]: si[item]=1\n",
        "# Find the number of elements\n",
        "  n=len(si)\n",
        "# if they are no ratings in common, return 0\n",
        "  if n==0: return 0\n",
        "# Add up all the preferences\n",
        "  sum1=sum([prefs[p1][it] for it in si])\n",
        "  sum2=sum([prefs[p2][it] for it in si])\n",
        "# Sum up the squares\n",
        "  sum1Sq=sum([pow(prefs[p1][it],2) for it in si])\n",
        "  sum2Sq=sum([pow(prefs[p2][it],2) for it in si])\n",
        "# Sum up the products\n",
        "  pSum=sum([prefs[p1][it]*prefs[p2][it] for it in si])\n",
        "# Calculate Pearson score\n",
        "  num=pSum-(sum1*sum2/n)\n",
        "  den=sqrt((sum1Sq-pow(sum1,2)/n)*(sum2Sq-pow(sum2,2)/n))\n",
        "  if den==0: return 0\n",
        "  r=num/den\n",
        "  return r\n",
        "# Returns the best matches for person from the prefs dictionary.\n",
        "# Number of results and similarity function are optional params.\n",
        "def topMatches(prefs,person,n=5,similarity=sim_pearson):\n",
        "  scores=[(similarity(prefs,person,other),other)\n",
        "                  for other in prefs if other!=person]\n",
        "# Sort the list so the highest scores appear at the top\n",
        "  scores.sort( )\n",
        "  scores.reverse( )\n",
        "  return scores[0:n]\n",
        "\n"
      ],
      "execution_count": 0,
      "outputs": []
    },
    {
      "metadata": {
        "id": "Q3LHSCw64Ewd",
        "colab_type": "code",
        "colab": {}
      },
      "cell_type": "code",
      "source": [
        "def getRecommendations(prefs,person,similarity=sim_pearson):\n",
        "  totals={}\n",
        "  simSums={}\n",
        "  for other in prefs:\n",
        "    # don't compare me to myself\n",
        "    if other==person: continue\n",
        "    sim=similarity(prefs,person,other)\n",
        "    # ignore scores of zero or lower\n",
        "    if sim<=0: continue\n",
        "    for item in prefs[other]:\n",
        "      # only score movies I haven't seen yet\n",
        "      if item not in prefs[person] or prefs[person][item]==0:\n",
        "        # Similarity * Score\n",
        "        totals.setdefault(item,0)\n",
        "        totals[item]+=prefs[other][item]*sim\n",
        "        # Sum of similarities\n",
        "        simSums.setdefault(item,0)\n",
        "        simSums[item]+=sim\n",
        "  # Create the normalized list\n",
        "  rankings=[(total/simSums[item],item) for item,total in totals.items( )]\n",
        "  # Return the sorted list\n",
        "  rankings.sort( )\n",
        "  rankings.reverse( )\n",
        "  return rankings\n"
      ],
      "execution_count": 0,
      "outputs": []
    },
    {
      "metadata": {
        "id": "kn9Lb4i83514",
        "colab_type": "code",
        "colab": {}
      },
      "cell_type": "code",
      "source": [
        "def transformPrefs(prefs):\n",
        "  result={}\n",
        "  for person in prefs:\n",
        "    for item in prefs[person]:\n",
        "      result.setdefault(item,{})\n",
        "      # Flip item and person\n",
        "      result[item][person]=prefs[person][item]\n",
        "  return result"
      ],
      "execution_count": 0,
      "outputs": []
    },
    {
      "metadata": {
        "id": "khiUcI7h8ofV",
        "colab_type": "code",
        "colab": {}
      },
      "cell_type": "code",
      "source": [
        ""
      ],
      "execution_count": 0,
      "outputs": []
    }
  ]
}